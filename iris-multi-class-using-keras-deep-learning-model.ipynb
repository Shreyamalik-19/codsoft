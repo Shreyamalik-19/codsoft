{
 "cells": [
  {
   "cell_type": "code",
   "execution_count": 1,
   "id": "d0914b28",
   "metadata": {
    "_cell_guid": "b1076dfc-b9ad-4769-8c92-a6c4dae69d19",
    "_uuid": "8f2839f25d086af736a60e9eeb907d3b93b6e0e5",
    "execution": {
     "iopub.execute_input": "2023-11-17T14:15:56.018400Z",
     "iopub.status.busy": "2023-11-17T14:15:56.017533Z",
     "iopub.status.idle": "2023-11-17T14:16:03.751873Z",
     "shell.execute_reply": "2023-11-17T14:16:03.750690Z",
     "shell.execute_reply.started": "2023-11-17T14:14:45.400207Z"
    },
    "papermill": {
     "duration": 7.759458,
     "end_time": "2023-11-17T14:16:03.752202",
     "exception": false,
     "start_time": "2023-11-17T14:15:55.992744",
     "status": "completed"
    },
    "tags": []
   },
   "outputs": [],
   "source": [
    "import pandas\n",
    "from keras.models import Sequential\n",
    "from keras.layers import Dense\n",
    "from keras.wrappers.scikit_learn import KerasClassifier\n",
    "from keras.utils import np_utils\n",
    "from sklearn.model_selection import cross_val_score\n",
    "from sklearn.model_selection import KFold\n",
    "from sklearn.preprocessing import LabelEncoder\n",
    "from sklearn.pipeline import Pipeline"
   ]
  },
  {
   "cell_type": "code",
   "execution_count": 2,
   "id": "2f65c209",
   "metadata": {
    "execution": {
     "iopub.execute_input": "2023-11-17T14:16:03.788338Z",
     "iopub.status.busy": "2023-11-17T14:16:03.787111Z",
     "iopub.status.idle": "2023-11-17T14:16:03.810278Z",
     "shell.execute_reply": "2023-11-17T14:16:03.811593Z",
     "shell.execute_reply.started": "2023-11-17T14:14:52.304944Z"
    },
    "papermill": {
     "duration": 0.043251,
     "end_time": "2023-11-17T14:16:03.811941",
     "exception": false,
     "start_time": "2023-11-17T14:16:03.768690",
     "status": "completed"
    },
    "tags": []
   },
   "outputs": [],
   "source": [
    "df = pandas.read_csv(\"../input/iris-dataset/iris.data.csv\", header=None)\n",
    "dset = df.values\n",
    "X = dset[:,0:4].astype(float)\n",
    "Y = dset[:,4]"
   ]
  },
  {
   "cell_type": "code",
   "execution_count": 3,
   "id": "33ce26d0",
   "metadata": {
    "execution": {
     "iopub.execute_input": "2023-11-17T14:16:03.841209Z",
     "iopub.status.busy": "2023-11-17T14:16:03.840366Z",
     "iopub.status.idle": "2023-11-17T14:16:03.852905Z",
     "shell.execute_reply": "2023-11-17T14:16:03.853543Z",
     "shell.execute_reply.started": "2023-11-17T14:14:52.327699Z"
    },
    "papermill": {
     "duration": 0.030186,
     "end_time": "2023-11-17T14:16:03.853769",
     "exception": false,
     "start_time": "2023-11-17T14:16:03.823583",
     "status": "completed"
    },
    "tags": []
   },
   "outputs": [
    {
     "data": {
      "text/plain": [
       "((150, 5), 750)"
      ]
     },
     "execution_count": 3,
     "metadata": {},
     "output_type": "execute_result"
    }
   ],
   "source": [
    "df.shape, df.size"
   ]
  },
  {
   "cell_type": "code",
   "execution_count": 4,
   "id": "180a551a",
   "metadata": {
    "execution": {
     "iopub.execute_input": "2023-11-17T14:16:03.882733Z",
     "iopub.status.busy": "2023-11-17T14:16:03.881505Z",
     "iopub.status.idle": "2023-11-17T14:16:03.911669Z",
     "shell.execute_reply": "2023-11-17T14:16:03.913212Z",
     "shell.execute_reply.started": "2023-11-17T14:14:52.338082Z"
    },
    "papermill": {
     "duration": 0.047249,
     "end_time": "2023-11-17T14:16:03.913566",
     "exception": false,
     "start_time": "2023-11-17T14:16:03.866317",
     "status": "completed"
    },
    "tags": []
   },
   "outputs": [
    {
     "data": {
      "text/html": [
       "<div>\n",
       "<style scoped>\n",
       "    .dataframe tbody tr th:only-of-type {\n",
       "        vertical-align: middle;\n",
       "    }\n",
       "\n",
       "    .dataframe tbody tr th {\n",
       "        vertical-align: top;\n",
       "    }\n",
       "\n",
       "    .dataframe thead th {\n",
       "        text-align: right;\n",
       "    }\n",
       "</style>\n",
       "<table border=\"1\" class=\"dataframe\">\n",
       "  <thead>\n",
       "    <tr style=\"text-align: right;\">\n",
       "      <th></th>\n",
       "      <th>0</th>\n",
       "      <th>1</th>\n",
       "      <th>2</th>\n",
       "      <th>3</th>\n",
       "      <th>4</th>\n",
       "    </tr>\n",
       "  </thead>\n",
       "  <tbody>\n",
       "    <tr>\n",
       "      <th>145</th>\n",
       "      <td>6.7</td>\n",
       "      <td>3.0</td>\n",
       "      <td>5.2</td>\n",
       "      <td>2.3</td>\n",
       "      <td>Iris-virginica</td>\n",
       "    </tr>\n",
       "    <tr>\n",
       "      <th>146</th>\n",
       "      <td>6.3</td>\n",
       "      <td>2.5</td>\n",
       "      <td>5.0</td>\n",
       "      <td>1.9</td>\n",
       "      <td>Iris-virginica</td>\n",
       "    </tr>\n",
       "    <tr>\n",
       "      <th>147</th>\n",
       "      <td>6.5</td>\n",
       "      <td>3.0</td>\n",
       "      <td>5.2</td>\n",
       "      <td>2.0</td>\n",
       "      <td>Iris-virginica</td>\n",
       "    </tr>\n",
       "    <tr>\n",
       "      <th>148</th>\n",
       "      <td>6.2</td>\n",
       "      <td>3.4</td>\n",
       "      <td>5.4</td>\n",
       "      <td>2.3</td>\n",
       "      <td>Iris-virginica</td>\n",
       "    </tr>\n",
       "    <tr>\n",
       "      <th>149</th>\n",
       "      <td>5.9</td>\n",
       "      <td>3.0</td>\n",
       "      <td>5.1</td>\n",
       "      <td>1.8</td>\n",
       "      <td>Iris-virginica</td>\n",
       "    </tr>\n",
       "  </tbody>\n",
       "</table>\n",
       "</div>"
      ],
      "text/plain": [
       "       0    1    2    3               4\n",
       "145  6.7  3.0  5.2  2.3  Iris-virginica\n",
       "146  6.3  2.5  5.0  1.9  Iris-virginica\n",
       "147  6.5  3.0  5.2  2.0  Iris-virginica\n",
       "148  6.2  3.4  5.4  2.3  Iris-virginica\n",
       "149  5.9  3.0  5.1  1.8  Iris-virginica"
      ]
     },
     "execution_count": 4,
     "metadata": {},
     "output_type": "execute_result"
    }
   ],
   "source": [
    "df.tail()"
   ]
  },
  {
   "cell_type": "code",
   "execution_count": 5,
   "id": "04492e0a",
   "metadata": {
    "execution": {
     "iopub.execute_input": "2023-11-17T14:16:03.943324Z",
     "iopub.status.busy": "2023-11-17T14:16:03.942356Z",
     "iopub.status.idle": "2023-11-17T14:16:03.955370Z",
     "shell.execute_reply": "2023-11-17T14:16:03.956022Z",
     "shell.execute_reply.started": "2023-11-17T14:14:52.370191Z"
    },
    "papermill": {
     "duration": 0.030008,
     "end_time": "2023-11-17T14:16:03.956276",
     "exception": false,
     "start_time": "2023-11-17T14:16:03.926268",
     "status": "completed"
    },
    "tags": []
   },
   "outputs": [
    {
     "data": {
      "text/plain": [
       "array(['Iris-setosa', 'Iris-versicolor', 'Iris-virginica'], dtype=object)"
      ]
     },
     "execution_count": 5,
     "metadata": {},
     "output_type": "execute_result"
    }
   ],
   "source": [
    "df[4].unique()"
   ]
  },
  {
   "cell_type": "code",
   "execution_count": 6,
   "id": "b74aae7d",
   "metadata": {
    "execution": {
     "iopub.execute_input": "2023-11-17T14:16:03.987688Z",
     "iopub.status.busy": "2023-11-17T14:16:03.986728Z",
     "iopub.status.idle": "2023-11-17T14:16:03.993328Z",
     "shell.execute_reply": "2023-11-17T14:16:03.993988Z",
     "shell.execute_reply.started": "2023-11-17T14:14:52.380782Z"
    },
    "papermill": {
     "duration": 0.025196,
     "end_time": "2023-11-17T14:16:03.994238",
     "exception": false,
     "start_time": "2023-11-17T14:16:03.969042",
     "status": "completed"
    },
    "tags": []
   },
   "outputs": [],
   "source": [
    "encoder = LabelEncoder()\n",
    "encoder.fit(Y)\n",
    "encoded_Y = encoder.transform(Y)"
   ]
  },
  {
   "cell_type": "code",
   "execution_count": 7,
   "id": "559fcec0",
   "metadata": {
    "execution": {
     "iopub.execute_input": "2023-11-17T14:16:04.023611Z",
     "iopub.status.busy": "2023-11-17T14:16:04.022375Z",
     "iopub.status.idle": "2023-11-17T14:16:04.030275Z",
     "shell.execute_reply": "2023-11-17T14:16:04.030932Z",
     "shell.execute_reply.started": "2023-11-17T14:14:52.391315Z"
    },
    "papermill": {
     "duration": 0.025424,
     "end_time": "2023-11-17T14:16:04.031174",
     "exception": false,
     "start_time": "2023-11-17T14:16:04.005750",
     "status": "completed"
    },
    "tags": []
   },
   "outputs": [
    {
     "name": "stdout",
     "output_type": "stream",
     "text": [
      "[0 0 0 0 0 0 0 0 0 0 0 0 0 0 0 0 0 0 0 0 0 0 0 0 0 0 0 0 0 0 0 0 0 0 0 0 0\n",
      " 0 0 0 0 0 0 0 0 0 0 0 0 0 1 1 1 1 1 1 1 1 1 1 1 1 1 1 1 1 1 1 1 1 1 1 1 1\n",
      " 1 1 1 1 1 1 1 1 1 1 1 1 1 1 1 1 1 1 1 1 1 1 1 1 1 1 2 2 2 2 2 2 2 2 2 2 2\n",
      " 2 2 2 2 2 2 2 2 2 2 2 2 2 2 2 2 2 2 2 2 2 2 2 2 2 2 2 2 2 2 2 2 2 2 2 2 2\n",
      " 2 2]\n"
     ]
    }
   ],
   "source": [
    "print(encoded_Y)"
   ]
  },
  {
   "cell_type": "code",
   "execution_count": 8,
   "id": "b34ab487",
   "metadata": {
    "execution": {
     "iopub.execute_input": "2023-11-17T14:16:04.062338Z",
     "iopub.status.busy": "2023-11-17T14:16:04.061110Z",
     "iopub.status.idle": "2023-11-17T14:16:04.067690Z",
     "shell.execute_reply": "2023-11-17T14:16:04.068383Z",
     "shell.execute_reply.started": "2023-11-17T14:14:52.404967Z"
    },
    "papermill": {
     "duration": 0.024707,
     "end_time": "2023-11-17T14:16:04.068615",
     "exception": false,
     "start_time": "2023-11-17T14:16:04.043908",
     "status": "completed"
    },
    "tags": []
   },
   "outputs": [],
   "source": [
    "dummy_y = np_utils.to_categorical(encoded_Y)"
   ]
  },
  {
   "cell_type": "code",
   "execution_count": 9,
   "id": "8fb5efa4",
   "metadata": {
    "execution": {
     "iopub.execute_input": "2023-11-17T14:16:04.098001Z",
     "iopub.status.busy": "2023-11-17T14:16:04.096783Z",
     "iopub.status.idle": "2023-11-17T14:16:04.110078Z",
     "shell.execute_reply": "2023-11-17T14:16:04.110685Z",
     "shell.execute_reply.started": "2023-11-17T14:14:52.414608Z"
    },
    "papermill": {
     "duration": 0.030096,
     "end_time": "2023-11-17T14:16:04.110980",
     "exception": false,
     "start_time": "2023-11-17T14:16:04.080884",
     "status": "completed"
    },
    "tags": []
   },
   "outputs": [
    {
     "name": "stdout",
     "output_type": "stream",
     "text": [
      "[[1. 0. 0.]\n",
      " [1. 0. 0.]\n",
      " [1. 0. 0.]\n",
      " [1. 0. 0.]\n",
      " [1. 0. 0.]\n",
      " [1. 0. 0.]\n",
      " [1. 0. 0.]\n",
      " [1. 0. 0.]\n",
      " [1. 0. 0.]\n",
      " [1. 0. 0.]\n",
      " [1. 0. 0.]\n",
      " [1. 0. 0.]\n",
      " [1. 0. 0.]\n",
      " [1. 0. 0.]\n",
      " [1. 0. 0.]\n",
      " [1. 0. 0.]\n",
      " [1. 0. 0.]\n",
      " [1. 0. 0.]\n",
      " [1. 0. 0.]\n",
      " [1. 0. 0.]\n",
      " [1. 0. 0.]\n",
      " [1. 0. 0.]\n",
      " [1. 0. 0.]\n",
      " [1. 0. 0.]\n",
      " [1. 0. 0.]\n",
      " [1. 0. 0.]\n",
      " [1. 0. 0.]\n",
      " [1. 0. 0.]\n",
      " [1. 0. 0.]\n",
      " [1. 0. 0.]\n",
      " [1. 0. 0.]\n",
      " [1. 0. 0.]\n",
      " [1. 0. 0.]\n",
      " [1. 0. 0.]\n",
      " [1. 0. 0.]\n",
      " [1. 0. 0.]\n",
      " [1. 0. 0.]\n",
      " [1. 0. 0.]\n",
      " [1. 0. 0.]\n",
      " [1. 0. 0.]\n",
      " [1. 0. 0.]\n",
      " [1. 0. 0.]\n",
      " [1. 0. 0.]\n",
      " [1. 0. 0.]\n",
      " [1. 0. 0.]\n",
      " [1. 0. 0.]\n",
      " [1. 0. 0.]\n",
      " [1. 0. 0.]\n",
      " [1. 0. 0.]\n",
      " [1. 0. 0.]\n",
      " [0. 1. 0.]\n",
      " [0. 1. 0.]\n",
      " [0. 1. 0.]\n",
      " [0. 1. 0.]\n",
      " [0. 1. 0.]\n",
      " [0. 1. 0.]\n",
      " [0. 1. 0.]\n",
      " [0. 1. 0.]\n",
      " [0. 1. 0.]\n",
      " [0. 1. 0.]\n",
      " [0. 1. 0.]\n",
      " [0. 1. 0.]\n",
      " [0. 1. 0.]\n",
      " [0. 1. 0.]\n",
      " [0. 1. 0.]\n",
      " [0. 1. 0.]\n",
      " [0. 1. 0.]\n",
      " [0. 1. 0.]\n",
      " [0. 1. 0.]\n",
      " [0. 1. 0.]\n",
      " [0. 1. 0.]\n",
      " [0. 1. 0.]\n",
      " [0. 1. 0.]\n",
      " [0. 1. 0.]\n",
      " [0. 1. 0.]\n",
      " [0. 1. 0.]\n",
      " [0. 1. 0.]\n",
      " [0. 1. 0.]\n",
      " [0. 1. 0.]\n",
      " [0. 1. 0.]\n",
      " [0. 1. 0.]\n",
      " [0. 1. 0.]\n",
      " [0. 1. 0.]\n",
      " [0. 1. 0.]\n",
      " [0. 1. 0.]\n",
      " [0. 1. 0.]\n",
      " [0. 1. 0.]\n",
      " [0. 1. 0.]\n",
      " [0. 1. 0.]\n",
      " [0. 1. 0.]\n",
      " [0. 1. 0.]\n",
      " [0. 1. 0.]\n",
      " [0. 1. 0.]\n",
      " [0. 1. 0.]\n",
      " [0. 1. 0.]\n",
      " [0. 1. 0.]\n",
      " [0. 1. 0.]\n",
      " [0. 1. 0.]\n",
      " [0. 1. 0.]\n",
      " [0. 1. 0.]\n",
      " [0. 0. 1.]\n",
      " [0. 0. 1.]\n",
      " [0. 0. 1.]\n",
      " [0. 0. 1.]\n",
      " [0. 0. 1.]\n",
      " [0. 0. 1.]\n",
      " [0. 0. 1.]\n",
      " [0. 0. 1.]\n",
      " [0. 0. 1.]\n",
      " [0. 0. 1.]\n",
      " [0. 0. 1.]\n",
      " [0. 0. 1.]\n",
      " [0. 0. 1.]\n",
      " [0. 0. 1.]\n",
      " [0. 0. 1.]\n",
      " [0. 0. 1.]\n",
      " [0. 0. 1.]\n",
      " [0. 0. 1.]\n",
      " [0. 0. 1.]\n",
      " [0. 0. 1.]\n",
      " [0. 0. 1.]\n",
      " [0. 0. 1.]\n",
      " [0. 0. 1.]\n",
      " [0. 0. 1.]\n",
      " [0. 0. 1.]\n",
      " [0. 0. 1.]\n",
      " [0. 0. 1.]\n",
      " [0. 0. 1.]\n",
      " [0. 0. 1.]\n",
      " [0. 0. 1.]\n",
      " [0. 0. 1.]\n",
      " [0. 0. 1.]\n",
      " [0. 0. 1.]\n",
      " [0. 0. 1.]\n",
      " [0. 0. 1.]\n",
      " [0. 0. 1.]\n",
      " [0. 0. 1.]\n",
      " [0. 0. 1.]\n",
      " [0. 0. 1.]\n",
      " [0. 0. 1.]\n",
      " [0. 0. 1.]\n",
      " [0. 0. 1.]\n",
      " [0. 0. 1.]\n",
      " [0. 0. 1.]\n",
      " [0. 0. 1.]\n",
      " [0. 0. 1.]\n",
      " [0. 0. 1.]\n",
      " [0. 0. 1.]\n",
      " [0. 0. 1.]\n",
      " [0. 0. 1.]]\n"
     ]
    }
   ],
   "source": [
    "print(dummy_y)"
   ]
  },
  {
   "cell_type": "code",
   "execution_count": 10,
   "id": "e4e16c7a",
   "metadata": {
    "execution": {
     "iopub.execute_input": "2023-11-17T14:16:04.141667Z",
     "iopub.status.busy": "2023-11-17T14:16:04.140877Z",
     "iopub.status.idle": "2023-11-17T14:16:04.150204Z",
     "shell.execute_reply": "2023-11-17T14:16:04.150992Z",
     "shell.execute_reply.started": "2023-11-17T14:14:52.430609Z"
    },
    "papermill": {
     "duration": 0.026845,
     "end_time": "2023-11-17T14:16:04.151261",
     "exception": false,
     "start_time": "2023-11-17T14:16:04.124416",
     "status": "completed"
    },
    "tags": []
   },
   "outputs": [],
   "source": [
    "# define baseline model\n",
    "def baseline_model():\n",
    "# create model\n",
    "    model = Sequential()\n",
    "    model.add(Dense(16, input_dim=4, activation='relu')) # Hidden Layer \n",
    "    model.add(Dense(3, activation='softmax')) # Output Layer\n",
    "# Compile model\n",
    "    model.compile(loss='categorical_crossentropy', optimizer='adam', metrics=['accuracy'])\n",
    "    return model\n",
    "estimator = KerasClassifier(build_fn=baseline_model, epochs=150, batch_size=5, verbose=0)"
   ]
  },
  {
   "cell_type": "code",
   "execution_count": 11,
   "id": "ec21696a",
   "metadata": {
    "execution": {
     "iopub.execute_input": "2023-11-17T14:16:04.181940Z",
     "iopub.status.busy": "2023-11-17T14:16:04.181053Z",
     "iopub.status.idle": "2023-11-17T14:16:40.871724Z",
     "shell.execute_reply": "2023-11-17T14:16:40.872373Z",
     "shell.execute_reply.started": "2023-11-17T14:14:52.441084Z"
    },
    "papermill": {
     "duration": 36.709186,
     "end_time": "2023-11-17T14:16:40.872616",
     "exception": false,
     "start_time": "2023-11-17T14:16:04.163430",
     "status": "completed"
    },
    "tags": []
   },
   "outputs": [
    {
     "name": "stdout",
     "output_type": "stream",
     "text": [
      "Baseline: 97.33% (3.27%)\n"
     ]
    }
   ],
   "source": [
    "kfold = KFold(n_splits=10, shuffle=True)\n",
    "results = cross_val_score(estimator, X, dummy_y, cv=kfold)\n",
    "print(\"Baseline: %.2f%% (%.2f%%)\" % (results.mean()*100, results.std()*100))"
   ]
  }
 ],
 "metadata": {
  "kaggle": {
   "accelerator": "none",
   "dataSources": [
    {
     "datasetId": 1810,
     "sourceId": 3133,
     "sourceType": "datasetVersion"
    }
   ],
   "dockerImageVersionId": 30120,
   "isGpuEnabled": false,
   "isInternetEnabled": false,
   "language": "python",
   "sourceType": "notebook"
  },
  "kernelspec": {
   "display_name": "Python 3",
   "language": "python",
   "name": "python3"
  },
  "language_info": {
   "codemirror_mode": {
    "name": "ipython",
    "version": 3
   },
   "file_extension": ".py",
   "mimetype": "text/x-python",
   "name": "python",
   "nbconvert_exporter": "python",
   "pygments_lexer": "ipython3",
   "version": "3.7.10"
  },
  "papermill": {
   "default_parameters": {},
   "duration": 56.882606,
   "end_time": "2023-11-17T14:16:43.185382",
   "environment_variables": {},
   "exception": null,
   "input_path": "__notebook__.ipynb",
   "output_path": "__notebook__.ipynb",
   "parameters": {},
   "start_time": "2023-11-17T14:15:46.302776",
   "version": "2.3.3"
  }
 },
 "nbformat": 4,
 "nbformat_minor": 5
}
